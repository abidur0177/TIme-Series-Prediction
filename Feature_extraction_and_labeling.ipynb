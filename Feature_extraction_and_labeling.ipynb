{
  "nbformat": 4,
  "nbformat_minor": 0,
  "metadata": {
    "colab": {
      "provenance": [],
      "authorship_tag": "ABX9TyNY/uY0jsxjScTmRKvGS6Wy",
      "include_colab_link": true
    },
    "kernelspec": {
      "name": "python3",
      "display_name": "Python 3"
    },
    "language_info": {
      "name": "python"
    }
  },
  "cells": [
    {
      "cell_type": "markdown",
      "metadata": {
        "id": "view-in-github",
        "colab_type": "text"
      },
      "source": [
        "<a href=\"https://colab.research.google.com/github/abidur0177/TIme-Series-Prediction/blob/main/Feature_extraction_and_labeling.ipynb\" target=\"_parent\"><img src=\"https://colab.research.google.com/assets/colab-badge.svg\" alt=\"Open In Colab\"/></a>"
      ]
    },
    {
      "cell_type": "code",
      "execution_count": 31,
      "metadata": {
        "id": "fQ0qpKSn19RF"
      },
      "outputs": [],
      "source": [
        "import tensorflow as tf\n",
        "import numpy as np"
      ]
    },
    {
      "cell_type": "code",
      "source": [
        "dataset = tf.data.Dataset.range(10)\n",
        "\n",
        "for val in dataset:\n",
        "  print(val.numpy())"
      ],
      "metadata": {
        "colab": {
          "base_uri": "https://localhost:8080/"
        },
        "id": "XoJB7Ncz1_1H",
        "outputId": "e3e683d8-a214-4b30-9539-f568198c9331"
      },
      "execution_count": 35,
      "outputs": [
        {
          "output_type": "stream",
          "name": "stdout",
          "text": [
            "0\n",
            "1\n",
            "2\n",
            "3\n",
            "4\n",
            "5\n",
            "6\n",
            "7\n",
            "8\n",
            "9\n"
          ]
        }
      ]
    },
    {
      "cell_type": "markdown",
      "source": [
        "### Windowing the data"
      ],
      "metadata": {
        "id": "1KySayeT4BLp"
      }
    },
    {
      "cell_type": "code",
      "source": [
        "# Generate a tf dataset\n",
        "dataset = tf.data.Dataset.range(10)\n",
        "\n",
        "# Window the dataset of size 5 and shift 1\n",
        "dataset = dataset.window(size=5, shift=1)\n",
        "\n",
        "for window_dataset in dataset:\n",
        "  print(window_dataset) # Each window dataset is itself is a tf dataset"
      ],
      "metadata": {
        "colab": {
          "base_uri": "https://localhost:8080/"
        },
        "id": "HgiYLIN42Iwv",
        "outputId": "1a885e72-699f-43a0-ea87-89e956e2034e"
      },
      "execution_count": 18,
      "outputs": [
        {
          "output_type": "stream",
          "name": "stdout",
          "text": [
            "<_VariantDataset element_spec=TensorSpec(shape=(), dtype=tf.int64, name=None)>\n",
            "<_VariantDataset element_spec=TensorSpec(shape=(), dtype=tf.int64, name=None)>\n",
            "<_VariantDataset element_spec=TensorSpec(shape=(), dtype=tf.int64, name=None)>\n",
            "<_VariantDataset element_spec=TensorSpec(shape=(), dtype=tf.int64, name=None)>\n",
            "<_VariantDataset element_spec=TensorSpec(shape=(), dtype=tf.int64, name=None)>\n",
            "<_VariantDataset element_spec=TensorSpec(shape=(), dtype=tf.int64, name=None)>\n",
            "<_VariantDataset element_spec=TensorSpec(shape=(), dtype=tf.int64, name=None)>\n",
            "<_VariantDataset element_spec=TensorSpec(shape=(), dtype=tf.int64, name=None)>\n",
            "<_VariantDataset element_spec=TensorSpec(shape=(), dtype=tf.int64, name=None)>\n",
            "<_VariantDataset element_spec=TensorSpec(shape=(), dtype=tf.int64, name=None)>\n"
          ]
        }
      ]
    },
    {
      "cell_type": "code",
      "source": [
        "# See the values of each window\n",
        "for window_dataset in dataset:\n",
        "  print([item.numpy() for item in window_dataset])"
      ],
      "metadata": {
        "colab": {
          "base_uri": "https://localhost:8080/"
        },
        "id": "z9owMuBi3GQo",
        "outputId": "604e2b87-aa02-4bc4-e5ee-2a86f68d08c8"
      },
      "execution_count": 19,
      "outputs": [
        {
          "output_type": "stream",
          "name": "stdout",
          "text": [
            "[0, 1, 2, 3, 4]\n",
            "[1, 2, 3, 4, 5]\n",
            "[2, 3, 4, 5, 6]\n",
            "[3, 4, 5, 6, 7]\n",
            "[4, 5, 6, 7, 8]\n",
            "[5, 6, 7, 8, 9]\n",
            "[6, 7, 8, 9]\n",
            "[7, 8, 9]\n",
            "[8, 9]\n",
            "[9]\n"
          ]
        }
      ]
    },
    {
      "cell_type": "code",
      "source": [
        "# Generate a tf dataset with 10 elements (i.e. numbers 0 to 9)\n",
        "dataset = tf.data.Dataset.range(10)\n",
        "\n",
        "# To remove the last unmatched window_dataset we can use the set the drop_remainder parameter to True\n",
        "dataset = dataset.window(size=5, shift=1, drop_remainder=True)\n",
        "\n",
        "# See the values of each window\n",
        "for window_dataset in dataset:\n",
        "  print([item.numpy() for item in window_dataset])"
      ],
      "metadata": {
        "colab": {
          "base_uri": "https://localhost:8080/"
        },
        "id": "KB5dYYDJ3hti",
        "outputId": "c97baf2f-d581-461b-a966-7de37eece71d"
      },
      "execution_count": 33,
      "outputs": [
        {
          "output_type": "stream",
          "name": "stdout",
          "text": [
            "[0, 1, 2, 3, 4]\n",
            "[1, 2, 3, 4, 5]\n",
            "[2, 3, 4, 5, 6]\n",
            "[3, 4, 5, 6, 7]\n",
            "[4, 5, 6, 7, 8]\n",
            "[5, 6, 7, 8, 9]\n"
          ]
        }
      ]
    },
    {
      "cell_type": "markdown",
      "source": [
        "### Flattening the window"
      ],
      "metadata": {
        "id": "EvF9HjvgAFcy"
      }
    },
    {
      "cell_type": "code",
      "source": [
        "# Generate a tf dataset with 10 elements (i.e. numbers 0 to 9)\n",
        "dataset = tf.data.Dataset.range(10)\n",
        "\n",
        "# Window the data but only take those with the specified size\n",
        "dataset = dataset.window(5, shift=1, drop_remainder=True)\n",
        "\n",
        "# Flatten the windows by putting its elements in a single batch of tensors\n",
        "dataset = dataset.flat_map(lambda window: window.batch(5))\n",
        "\n",
        "# Print the results\n",
        "for window in dataset:\n",
        "  print(window.numpy())"
      ],
      "metadata": {
        "colab": {
          "base_uri": "https://localhost:8080/"
        },
        "id": "XE4cm5Ew4Psv",
        "outputId": "bb2b62ca-77d2-42c8-9591-45780ebaab65"
      },
      "execution_count": 43,
      "outputs": [
        {
          "output_type": "stream",
          "name": "stdout",
          "text": [
            "[0 1 2 3 4]\n",
            "[1 2 3 4 5]\n",
            "[2 3 4 5 6]\n",
            "[3 4 5 6 7]\n",
            "[4 5 6 7 8]\n",
            "[5 6 7 8 9]\n"
          ]
        }
      ]
    },
    {
      "cell_type": "markdown",
      "source": [
        "### Group each tensor of the dataset and create the labels"
      ],
      "metadata": {
        "id": "xcOYrEMIC413"
      }
    },
    {
      "cell_type": "code",
      "source": [
        "# Generate a tf dataset with 10 elements (i.e. numbers 0 to 9)\n",
        "dataset = tf.data.Dataset.range(10)\n",
        "\n",
        "# Window the data but only take those with the specified size\n",
        "dataset = dataset.window(5, shift=1, drop_remainder=True)\n",
        "\n",
        "# Flatten the windows by putting its elements in a single batch of tensors\n",
        "dataset = dataset.flat_map(lambda window: window.batch(5))\n",
        "\n",
        "# Create a tuple while the first four elements are consideres as the features and the last element is as the label\n",
        "dataset = dataset.map(lambda window: (window[:-1], window[-1]))\n",
        "\n",
        "for window in dataset:\n",
        "  print(f\"This are the features: {window[0].numpy()}\")\n",
        "  print(f\"This is the label: {window[1]} \\n\")"
      ],
      "metadata": {
        "colab": {
          "base_uri": "https://localhost:8080/"
        },
        "id": "bk81z5o4A7tO",
        "outputId": "bc92c5a3-dbf8-441d-97c5-52f604dfe733"
      },
      "execution_count": 44,
      "outputs": [
        {
          "output_type": "stream",
          "name": "stdout",
          "text": [
            "This are the features: [0 1 2 3]\n",
            "This is the label: 4 \n",
            "\n",
            "This are the features: [1 2 3 4]\n",
            "This is the label: 5 \n",
            "\n",
            "This are the features: [2 3 4 5]\n",
            "This is the label: 6 \n",
            "\n",
            "This are the features: [3 4 5 6]\n",
            "This is the label: 7 \n",
            "\n",
            "This are the features: [4 5 6 7]\n",
            "This is the label: 8 \n",
            "\n",
            "This are the features: [5 6 7 8]\n",
            "This is the label: 9 \n",
            "\n"
          ]
        }
      ]
    },
    {
      "cell_type": "code",
      "source": [
        "# We can get this another way\n",
        "for x,y in dataset:\n",
        "  print(f\"x = {x.numpy()}\")\n",
        "  print(f\"y = {y.numpy()}\\n\")"
      ],
      "metadata": {
        "colab": {
          "base_uri": "https://localhost:8080/"
        },
        "id": "2aZMpDbeD21Z",
        "outputId": "af5d7778-7794-4e71-df51-4404a8a58943"
      },
      "execution_count": 45,
      "outputs": [
        {
          "output_type": "stream",
          "name": "stdout",
          "text": [
            "x = [0 1 2 3]\n",
            "y = 4\n",
            "\n",
            "x = [1 2 3 4]\n",
            "y = 5\n",
            "\n",
            "x = [2 3 4 5]\n",
            "y = 6\n",
            "\n",
            "x = [3 4 5 6]\n",
            "y = 7\n",
            "\n",
            "x = [4 5 6 7]\n",
            "y = 8\n",
            "\n",
            "x = [5 6 7 8]\n",
            "y = 9\n",
            "\n"
          ]
        }
      ]
    },
    {
      "cell_type": "markdown",
      "source": [
        "### Shuffle the dataset"
      ],
      "metadata": {
        "id": "iFciQd2JEwO1"
      }
    },
    {
      "cell_type": "code",
      "source": [
        "# Generate a tf dataset with 10 elements (i.e. numbers 0 to 9)\n",
        "dataset = tf.data.Dataset.range(10)\n",
        "\n",
        "# Window the data but only take those with the specified size\n",
        "dataset = dataset.window(5, shift=1, drop_remainder=True)\n",
        "\n",
        "# Flatten the windows by putting its elements in a single batch of tensors\n",
        "dataset = dataset.flat_map(lambda window: window.batch(5))\n",
        "\n",
        "# Create a tuple while the first four elements are consideres as the features and the last element is as the label\n",
        "dataset = dataset.map(lambda window: (window[:-1], window[-1]))\n",
        "\n",
        "# Shuffle the order of the windows in the dataset\n",
        "dataset = dataset.shuffle(buffer_size=10)\n",
        "\n",
        "for window in dataset:\n",
        "  print(f\"This are the features: {window[0].numpy()}\")\n",
        "  print(f\"This is the label: {window[1]} \\n\")"
      ],
      "metadata": {
        "colab": {
          "base_uri": "https://localhost:8080/"
        },
        "id": "OS3sIpCuEW4N",
        "outputId": "d22da5f4-74ec-4d20-bca3-197e1c404e77"
      },
      "execution_count": 48,
      "outputs": [
        {
          "output_type": "stream",
          "name": "stdout",
          "text": [
            "This are the features: [1 2 3 4]\n",
            "This is the label: 5 \n",
            "\n",
            "This are the features: [3 4 5 6]\n",
            "This is the label: 7 \n",
            "\n",
            "This are the features: [0 1 2 3]\n",
            "This is the label: 4 \n",
            "\n",
            "This are the features: [2 3 4 5]\n",
            "This is the label: 6 \n",
            "\n",
            "This are the features: [5 6 7 8]\n",
            "This is the label: 9 \n",
            "\n",
            "This are the features: [4 5 6 7]\n",
            "This is the label: 8 \n",
            "\n"
          ]
        }
      ]
    },
    {
      "cell_type": "markdown",
      "source": [
        "### Creating batches for training the dataset"
      ],
      "metadata": {
        "id": "FZcHS4j7HQGJ"
      }
    },
    {
      "cell_type": "code",
      "source": [
        "# Generate a tf dataset with 10 elements (i.e. numbers 0 to 9)\n",
        "dataset = tf.data.Dataset.range(10)\n",
        "\n",
        "# Window the data but only take those with the specified size\n",
        "dataset = dataset.window(5, shift=1, drop_remainder=True)\n",
        "\n",
        "# Flatten the windows by putting its elements in a single batch of tensors\n",
        "dataset = dataset.flat_map(lambda window: window.batch(5))\n",
        "\n",
        "# Create a tuple while the first four elements are consideres as the features and the last element is as the label\n",
        "dataset = dataset.map(lambda window: (window[:-1], window[-1]))\n",
        "\n",
        "# Shuffle the order of the windows in the dataset\n",
        "dataset = dataset.shuffle(buffer_size=10)\n",
        "\n",
        "# Create batches of windows for the training purpose. The prefetch function put the next batch into the buffer to optimize the training time\n",
        "dataset = dataset.batch(2).prefetch(buffer_size=1) # This code takes two windows and create a batch out of this\n",
        "\n",
        "for window in dataset:\n",
        "  print(f\"This are the features: {window[0].numpy()}\")\n",
        "  print(f\"This is the label: {window[1]} \\n\")"
      ],
      "metadata": {
        "colab": {
          "base_uri": "https://localhost:8080/"
        },
        "id": "P-hulnVoGduk",
        "outputId": "3f6bff50-927a-40db-c3fb-b4efbb487beb"
      },
      "execution_count": 50,
      "outputs": [
        {
          "output_type": "stream",
          "name": "stdout",
          "text": [
            "This are the features: [[5 6 7 8]\n",
            " [1 2 3 4]]\n",
            "This is the label: [9 5] \n",
            "\n",
            "This are the features: [[2 3 4 5]\n",
            " [4 5 6 7]]\n",
            "This is the label: [6 8] \n",
            "\n",
            "This are the features: [[0 1 2 3]\n",
            " [3 4 5 6]]\n",
            "This is the label: [4 7] \n",
            "\n"
          ]
        }
      ]
    }
  ]
}